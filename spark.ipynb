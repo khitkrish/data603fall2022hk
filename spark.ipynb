{
  "nbformat": 4,
  "nbformat_minor": 0,
  "metadata": {
    "colab": {
      "provenance": []
    },
    "kernelspec": {
      "name": "python3",
      "display_name": "Python 3"
    },
    "language_info": {
      "name": "python"
    }
  },
  "cells": [
    {
      "cell_type": "code",
      "execution_count": null,
      "metadata": {
        "id": "aqtlKMPNbEyG",
        "outputId": "3ed0225b-2412-4c3d-a83d-00e80332e233",
        "colab": {
          "base_uri": "https://localhost:8080/"
        }
      },
      "outputs": [
        {
          "output_type": "stream",
          "name": "stdout",
          "text": [
            "tar: spark-3.0.1-bin-hadoop2.7.tgz: Cannot open: No such file or directory\n",
            "tar: Error is not recoverable: exiting now\n",
            "Looking in indexes: https://pypi.org/simple, https://us-python.pkg.dev/colab-wheels/public/simple/\n",
            "Collecting pyspark\n",
            "  Downloading pyspark-3.3.0.tar.gz (281.3 MB)\n",
            "\u001b[K     |████████████████████████████████| 281.3 MB 44 kB/s \n",
            "\u001b[?25hCollecting py4j==0.10.9.5\n",
            "  Downloading py4j-0.10.9.5-py2.py3-none-any.whl (199 kB)\n",
            "\u001b[K     |████████████████████████████████| 199 kB 42.6 MB/s \n",
            "\u001b[?25hBuilding wheels for collected packages: pyspark\n",
            "  Building wheel for pyspark (setup.py) ... \u001b[?25l\u001b[?25hdone\n",
            "  Created wheel for pyspark: filename=pyspark-3.3.0-py2.py3-none-any.whl size=281764026 sha256=dadedc7c46a227b7940088d019a3ca1371c244a882d1eb8b10228d3e3c61ef9b\n",
            "  Stored in directory: /root/.cache/pip/wheels/7a/8e/1b/f73a52650d2e5f337708d9f6a1750d451a7349a867f928b885\n",
            "Successfully built pyspark\n",
            "Installing collected packages: py4j, pyspark\n",
            "Successfully installed py4j-0.10.9.5 pyspark-3.3.0\n",
            "tar: spark-3.1.1-bin-hadoop3.2.tgz: Cannot open: No such file or directory\n",
            "tar: Error is not recoverable: exiting now\n"
          ]
        }
      ],
      "source": [
        "\n",
        "\n",
        "!apt-get install openjdk-8-jdk-headless -qq > /dev/null\n",
        "!wget -q https://www-us.apache.org/dist/spark/spark-3.0.1/spark-3.0.1-bin-hadoop2.7.tgz\n",
        "!tar xf spark-3.0.1-bin-hadoop2.7.tgz\n",
        "\n",
        "!pip install -q findspark\n",
        "\n",
        "!pip install pyspark\n",
        "\n",
        "\n",
        "\n",
        "!apt-get install openjdk-8-jdk-headless -qq > /dev/null\n",
        "!wget -q https://www-us.apache.org/dist/spark/spark-3.1.1/spark-3.1.1-bin-hadoop3.2.tgz\n",
        "!tar xf spark-3.1.1-bin-hadoop3.2.tgz\n",
        "!pip install -q findspark\n"
      ]
    },
    {
      "cell_type": "markdown",
      "source": [
        "1. Spark Session "
      ],
      "metadata": {
        "id": "jZOn8vztFcQS"
      }
    },
    {
      "cell_type": "code",
      "source": [
        "import pyspark\n",
        "from pyspark.sql import SparkSession\n",
        "from pyspark.sql.functions import col\n",
        "from pyspark.sql.functions import to_timestamp, current_timestamp\n",
        "from pyspark.sql.types import StructType, StructField, StringType, IntegerType, LongType\n",
        "from pyspark.ml import Pipeline\n",
        "from pyspark.sql import SparkSession\n",
        "from pyspark.ml.feature import Tokenizer\n",
        "from pyspark.sql import Row\n",
        "from pyspark.sql.functions import *\n",
        "from pyspark.sql.functions import to_timestamp, lit\n",
        "import seaborn as sns\n",
        "import matplotlib.pyplot as plt\n",
        "%matplotlib inline\n",
        "\n",
        "spark = SparkSession.builder.appName('SparkByExamples.com').getOrCreate()\n"
      ],
      "metadata": {
        "id": "2gdXFlIj6Y3v"
      },
      "execution_count": 10,
      "outputs": []
    },
    {
      "cell_type": "code",
      "source": [
        "X = SparkSession.builder.appName('Assignment3').config(conf=conf).getOrCreate()"
      ],
      "metadata": {
        "id": "Jdixzw-b2lDx"
      },
      "execution_count": null,
      "outputs": []
    },
    {
      "cell_type": "markdown",
      "source": [
        "2. Read Data "
      ],
      "metadata": {
        "id": "45d3FtgFFnXL"
      }
    },
    {
      "cell_type": "code",
      "source": [
        "df = X.read.options(inferSchema='True', header = 'True').csv(\"/content/Crimes_-_2001_to_Present.csv\")"
      ],
      "metadata": {
        "id": "mEAYCH-x2pGY"
      },
      "execution_count": 9,
      "outputs": []
    },
    {
      "cell_type": "markdown",
      "source": [
        "3.View Data"
      ],
      "metadata": {
        "id": "WgXZW2IpFrZ2"
      }
    },
    {
      "cell_type": "code",
      "source": [
        "df.show()"
      ],
      "metadata": {
        "id": "K6YRB68g3Fb-",
        "colab": {
          "base_uri": "https://localhost:8080/"
        },
        "outputId": "bdbe4ffb-207d-4aa7-bdba-37aef7bb6245"
      },
      "execution_count": 11,
      "outputs": [
        {
          "output_type": "stream",
          "name": "stdout",
          "text": [
            "+--------+-----------+--------------------+--------------------+----+------------------+--------------------+--------------------+------+--------+----+--------+----+--------------+--------+------------+------------+----+--------------------+------------+-------------+--------------------+\n",
            "|      ID|Case Number|                Date|               Block|IUCR|      Primary Type|         Description|Location Description|Arrest|Domestic|Beat|District|Ward|Community Area|FBI Code|X Coordinate|Y Coordinate|Year|          Updated On|    Latitude|    Longitude|            Location|\n",
            "+--------+-----------+--------------------+--------------------+----+------------------+--------------------+--------------------+------+--------+----+--------+----+--------------+--------+------------+------------+----+--------------------+------------+-------------+--------------------+\n",
            "|10224738|   HY411648|09/05/2015 01:30:...|     043XX S WOOD ST|0486|           BATTERY|DOMESTIC BATTERY ...|           RESIDENCE| false|    true| 924|       9|  12|            61|     08B|     1165074|     1875917|2015|02/10/2018 03:50:...|41.815117282|-87.669999562|(41.815117282, -8...|\n",
            "|10224739|   HY411615|09/04/2015 11:30:...| 008XX N CENTRAL AVE|0870|             THEFT|      POCKET-PICKING|             CTA BUS| false|   false|1511|      15|  29|            25|      06|     1138875|     1904869|2015|02/10/2018 03:50:...|41.895080471|-87.765400451|(41.895080471, -8...|\n",
            "|11646166|   JC213529|09/01/2018 12:01:...|082XX S INGLESIDE...|0810|             THEFT|           OVER $500|           RESIDENCE| false|    true| 631|       6|   8|            44|      06|        null|        null|2018|04/06/2019 04:04:...|        null|         null|                null|\n",
            "|10224740|   HY411595|09/05/2015 12:45:...|   035XX W BARRY AVE|2023|         NARCOTICS|POSS: HEROIN(BRN/...|            SIDEWALK|  true|   false|1412|      14|  35|            21|      18|     1152037|     1920384|2015|02/10/2018 03:50:...|41.937405765|-87.716649687|(41.937405765, -8...|\n",
            "|10224741|   HY411610|09/05/2015 01:00:...| 0000X N LARAMIE AVE|0560|           ASSAULT|              SIMPLE|           APARTMENT| false|    true|1522|      15|  28|            25|     08A|     1141706|     1900086|2015|02/10/2018 03:50:...|41.881903443|-87.755121152|(41.881903443, -8...|\n",
            "|10224742|   HY411435|09/05/2015 10:55:...| 082XX S LOOMIS BLVD|0610|          BURGLARY|      FORCIBLE ENTRY|           RESIDENCE| false|   false| 614|       6|  21|            71|      05|     1168430|     1850165|2015|02/10/2018 03:50:...|41.744378879|-87.658430635|(41.744378879, -8...|\n",
            "|10224743|   HY411629|09/04/2015 06:00:...|021XX W CHURCHILL ST|0620|          BURGLARY|      UNLAWFUL ENTRY|    RESIDENCE-GARAGE| false|   false|1434|      14|  32|            24|      05|     1161628|     1912157|2015|02/10/2018 03:50:...|41.914635603|-87.681630909|(41.914635603, -8...|\n",
            "|10224744|   HY411605|09/05/2015 01:00:...|   025XX W CERMAK RD|0860|             THEFT|        RETAIL THEFT|  GROCERY FOOD STORE|  true|   false|1034|      10|  25|            31|      06|     1159734|     1889313|2015|09/17/2015 11:37:...|41.851988885|-87.689219118|(41.851988885, -8...|\n",
            "|10224745|   HY411654|09/05/2015 11:30:...|031XX W WASHINGTO...|0320|           ROBBERY|STRONGARM - NO WE...|              STREET| false|    true|1222|      12|  27|            27|      03|     1155536|     1900515|2015|02/10/2018 03:50:...| 41.88281374|-87.704325717|(41.88281374, -87...|\n",
            "|11645836|   JC212333|05/01/2016 12:25:...| 055XX S ROCKWELL ST|1153|DECEPTIVE PRACTICE|FINANCIAL IDENTIT...|                null| false|   false| 824|       8|  15|            63|      11|        null|        null|2016|04/06/2019 04:04:...|        null|         null|                null|\n",
            "|10224746|   HY411662|09/05/2015 02:00:...|  071XX S PULASKI RD|0820|             THEFT|      $500 AND UNDER|PARKING LOT/GARAG...| false|   false| 833|       8|  13|            65|      06|     1150938|     1857056|2015|02/10/2018 03:50:...|41.763647552|-87.722344693|(41.763647552, -8...|\n",
            "|10224749|   HY411626|09/05/2015 11:00:...|052XX N MILWAUKEE...|0460|           BATTERY|              SIMPLE|  SMALL RETAIL STORE| false|   false|1623|      16|  45|            11|     08B|     1137969|     1934340|2015|02/10/2018 03:50:...|41.975968415|-87.768014257|(41.975968415, -8...|\n",
            "|10224750|   HY411632|09/05/2015 03:00:...|    0000X W 103RD ST|2820|     OTHER OFFENSE|    TELEPHONE THREAT|           APARTMENT| false|    true| 512|       5|  34|            49|      26|     1177871|     1836676|2015|02/10/2018 03:50:...|41.707154919|-87.624244993|(41.707154919, -8...|\n",
            "|10224751|   HY411566|09/05/2015 12:50:...|     013XX E 47TH ST|0486|           BATTERY|DOMESTIC BATTERY ...|              STREET| false|    true| 222|       2|   4|            39|     08B|     1185907|     1874105|2015|02/10/2018 03:50:...|41.809678314|-87.593638934|(41.809678314, -8...|\n",
            "|10224752|   HY411601|09/03/2015 01:00:...| 020XX W SCHILLER ST|0810|             THEFT|           OVER $500|              STREET| false|   false|1424|      14|   1|            24|      06|     1162574|     1909428|2015|02/10/2018 03:50:...|41.907127255|-87.678232016|(41.907127255, -8...|\n",
            "|10224753|   HY411489|09/05/2015 11:45:...|  080XX S JUSTINE ST|0497|           BATTERY|AGGRAVATED DOMEST...|           APARTMENT| false|   false| 612|       6|  21|            71|     04B|     1167400|     1851512|2015|02/10/2018 03:50:...|41.748097343|-87.662166183|(41.748097343, -8...|\n",
            "|10224754|   HY411656|09/05/2015 01:30:...|007XX N LEAMINGTO...|1320|   CRIMINAL DAMAGE|          TO VEHICLE|              STREET| false|   false|1531|      15|  28|            25|      14|     1141889|     1904448|2015|02/10/2018 03:50:...|41.893869916|-87.754341096|(41.893869916, -8...|\n",
            "|10224756|   HY410094|07/08/2015 12:00:...|103XX S TORRENCE AVE|0620|          BURGLARY|      UNLAWFUL ENTRY|               OTHER| false|   false| 434|       4|  10|            51|      05|     1195508|     1836950|2015|02/10/2018 03:50:...|41.707490122|-87.559650325|(41.707490122, -8...|\n",
            "|10224757|   HY411388|09/05/2015 09:55:...|  088XX S PAULINA ST|0610|          BURGLARY|      FORCIBLE ENTRY|           RESIDENCE|  true|   false|2221|      22|  21|            71|      05|     1166554|     1846067|2015|02/10/2018 03:50:...|41.733173536|-87.665421067|(41.733173536, -8...|\n",
            "|10224758|   HY411568|09/05/2015 12:35:...|    059XX W GRACE ST|0486|           BATTERY|DOMESTIC BATTERY ...|              STREET| false|    true|1633|      16|  38|            15|     08B|     1136014|     1924656|2015|02/10/2018 03:50:...|41.949429769|-87.775435529|(41.949429769, -8...|\n",
            "+--------+-----------+--------------------+--------------------+----+------------------+--------------------+--------------------+------+--------+----+--------+----+--------------+--------+------------+------------+----+--------------------+------------+-------------+--------------------+\n",
            "only showing top 20 rows\n",
            "\n"
          ]
        }
      ]
    },
    {
      "cell_type": "markdown",
      "source": [
        "4. Know the Schema of the data "
      ],
      "metadata": {
        "id": "cfCYq2qFFujA"
      }
    },
    {
      "cell_type": "code",
      "source": [
        "df.printSchema()"
      ],
      "metadata": {
        "colab": {
          "base_uri": "https://localhost:8080/"
        },
        "id": "Gl1whCEiFG2y",
        "outputId": "f4926a8e-d6d1-46b0-dba3-034381f44abe"
      },
      "execution_count": 12,
      "outputs": [
        {
          "output_type": "stream",
          "name": "stdout",
          "text": [
            "root\n",
            " |-- ID: integer (nullable = true)\n",
            " |-- Case Number: string (nullable = true)\n",
            " |-- Date: string (nullable = true)\n",
            " |-- Block: string (nullable = true)\n",
            " |-- IUCR: string (nullable = true)\n",
            " |-- Primary Type: string (nullable = true)\n",
            " |-- Description: string (nullable = true)\n",
            " |-- Location Description: string (nullable = true)\n",
            " |-- Arrest: boolean (nullable = true)\n",
            " |-- Domestic: boolean (nullable = true)\n",
            " |-- Beat: integer (nullable = true)\n",
            " |-- District: integer (nullable = true)\n",
            " |-- Ward: integer (nullable = true)\n",
            " |-- Community Area: integer (nullable = true)\n",
            " |-- FBI Code: string (nullable = true)\n",
            " |-- X Coordinate: integer (nullable = true)\n",
            " |-- Y Coordinate: integer (nullable = true)\n",
            " |-- Year: integer (nullable = true)\n",
            " |-- Updated On: string (nullable = true)\n",
            " |-- Latitude: double (nullable = true)\n",
            " |-- Longitude: double (nullable = true)\n",
            " |-- Location: string (nullable = true)\n",
            "\n"
          ]
        }
      ]
    },
    {
      "cell_type": "code",
      "source": [
        "df.count(),len(df.columns)"
      ],
      "metadata": {
        "colab": {
          "base_uri": "https://localhost:8080/"
        },
        "id": "_CgXs4k4FKKz",
        "outputId": "ba5e4362-eb1b-4e70-9ace-ec7a95b72647"
      },
      "execution_count": 13,
      "outputs": [
        {
          "output_type": "execute_result",
          "data": {
            "text/plain": [
              "(3574000, 22)"
            ]
          },
          "metadata": {},
          "execution_count": 13
        }
      ]
    },
    {
      "cell_type": "markdown",
      "source": [
        "5.Clean Data "
      ],
      "metadata": {
        "id": "QF8x8UNJF8hX"
      }
    },
    {
      "cell_type": "code",
      "source": [
        "df2 = df.dropna()\n",
        "df2.count(),len(df2.columns)"
      ],
      "metadata": {
        "colab": {
          "base_uri": "https://localhost:8080/"
        },
        "id": "1O0x3b_kF__h",
        "outputId": "95bb89d7-746f-48a2-cbd7-f6b1f7d6c88f"
      },
      "execution_count": 14,
      "outputs": [
        {
          "output_type": "execute_result",
          "data": {
            "text/plain": [
              "(2972642, 22)"
            ]
          },
          "metadata": {},
          "execution_count": 14
        }
      ]
    },
    {
      "cell_type": "markdown",
      "source": [
        "6.Change data Column data type "
      ],
      "metadata": {
        "id": "-dzK02z2GLyx"
      }
    },
    {
      "cell_type": "code",
      "source": [
        "df3 = df2.withColumn('date',to_timestamp('date',format = 'MM/dd/yyyy hh:mm:ss a'))\n",
        "display(df3)"
      ],
      "metadata": {
        "colab": {
          "base_uri": "https://localhost:8080/",
          "height": 86
        },
        "id": "3gi9HdWAGETG",
        "outputId": "26a42758-5cba-4e16-f697-b9dd1f40432e"
      },
      "execution_count": 15,
      "outputs": [
        {
          "output_type": "display_data",
          "data": {
            "text/plain": [
              "DataFrame[ID: int, Case Number: string, date: timestamp, Block: string, IUCR: string, Primary Type: string, Description: string, Location Description: string, Arrest: boolean, Domestic: boolean, Beat: int, District: int, Ward: int, Community Area: int, FBI Code: string, X Coordinate: int, Y Coordinate: int, Year: int, Updated On: string, Latitude: double, Longitude: double, Location: string]"
            ]
          },
          "metadata": {}
        }
      ]
    },
    {
      "cell_type": "code",
      "source": [
        "df3.printSchema()"
      ],
      "metadata": {
        "colab": {
          "base_uri": "https://localhost:8080/"
        },
        "id": "m70RhDRJGRuQ",
        "outputId": "c97f7126-9c9e-43f6-a75d-59f5f4682679"
      },
      "execution_count": 16,
      "outputs": [
        {
          "output_type": "stream",
          "name": "stdout",
          "text": [
            "root\n",
            " |-- ID: integer (nullable = true)\n",
            " |-- Case Number: string (nullable = true)\n",
            " |-- date: timestamp (nullable = true)\n",
            " |-- Block: string (nullable = true)\n",
            " |-- IUCR: string (nullable = true)\n",
            " |-- Primary Type: string (nullable = true)\n",
            " |-- Description: string (nullable = true)\n",
            " |-- Location Description: string (nullable = true)\n",
            " |-- Arrest: boolean (nullable = true)\n",
            " |-- Domestic: boolean (nullable = true)\n",
            " |-- Beat: integer (nullable = true)\n",
            " |-- District: integer (nullable = true)\n",
            " |-- Ward: integer (nullable = true)\n",
            " |-- Community Area: integer (nullable = true)\n",
            " |-- FBI Code: string (nullable = true)\n",
            " |-- X Coordinate: integer (nullable = true)\n",
            " |-- Y Coordinate: integer (nullable = true)\n",
            " |-- Year: integer (nullable = true)\n",
            " |-- Updated On: string (nullable = true)\n",
            " |-- Latitude: double (nullable = true)\n",
            " |-- Longitude: double (nullable = true)\n",
            " |-- Location: string (nullable = true)\n",
            "\n"
          ]
        }
      ]
    },
    {
      "cell_type": "markdown",
      "source": [
        "7.Filter Data last 10 Years \n"
      ],
      "metadata": {
        "id": "k8cC7ZacGVWr"
      }
    },
    {
      "cell_type": "code",
      "source": [
        "df3 = df3.filter(df3.Year>2011)\n",
        "df3.show()"
      ],
      "metadata": {
        "colab": {
          "base_uri": "https://localhost:8080/"
        },
        "id": "ntObGJDKGZwo",
        "outputId": "6e45ad5c-afe5-4925-ed10-c49595a03698"
      },
      "execution_count": 17,
      "outputs": [
        {
          "output_type": "stream",
          "name": "stdout",
          "text": [
            "+--------+-----------+-------------------+--------------------+----+---------------+--------------------+--------------------+------+--------+----+--------+----+--------------+--------+------------+------------+----+--------------------+------------+-------------+--------------------+\n",
            "|      ID|Case Number|               date|               Block|IUCR|   Primary Type|         Description|Location Description|Arrest|Domestic|Beat|District|Ward|Community Area|FBI Code|X Coordinate|Y Coordinate|Year|          Updated On|    Latitude|    Longitude|            Location|\n",
            "+--------+-----------+-------------------+--------------------+----+---------------+--------------------+--------------------+------+--------+----+--------+----+--------------+--------+------------+------------+----+--------------------+------------+-------------+--------------------+\n",
            "|10224738|   HY411648|2015-09-05 13:30:00|     043XX S WOOD ST|0486|        BATTERY|DOMESTIC BATTERY ...|           RESIDENCE| false|    true| 924|       9|  12|            61|     08B|     1165074|     1875917|2015|02/10/2018 03:50:...|41.815117282|-87.669999562|(41.815117282, -8...|\n",
            "|10224739|   HY411615|2015-09-04 11:30:00| 008XX N CENTRAL AVE|0870|          THEFT|      POCKET-PICKING|             CTA BUS| false|   false|1511|      15|  29|            25|      06|     1138875|     1904869|2015|02/10/2018 03:50:...|41.895080471|-87.765400451|(41.895080471, -8...|\n",
            "|10224740|   HY411595|2015-09-05 12:45:00|   035XX W BARRY AVE|2023|      NARCOTICS|POSS: HEROIN(BRN/...|            SIDEWALK|  true|   false|1412|      14|  35|            21|      18|     1152037|     1920384|2015|02/10/2018 03:50:...|41.937405765|-87.716649687|(41.937405765, -8...|\n",
            "|10224741|   HY411610|2015-09-05 13:00:00| 0000X N LARAMIE AVE|0560|        ASSAULT|              SIMPLE|           APARTMENT| false|    true|1522|      15|  28|            25|     08A|     1141706|     1900086|2015|02/10/2018 03:50:...|41.881903443|-87.755121152|(41.881903443, -8...|\n",
            "|10224742|   HY411435|2015-09-05 10:55:00| 082XX S LOOMIS BLVD|0610|       BURGLARY|      FORCIBLE ENTRY|           RESIDENCE| false|   false| 614|       6|  21|            71|      05|     1168430|     1850165|2015|02/10/2018 03:50:...|41.744378879|-87.658430635|(41.744378879, -8...|\n",
            "|10224743|   HY411629|2015-09-04 18:00:00|021XX W CHURCHILL ST|0620|       BURGLARY|      UNLAWFUL ENTRY|    RESIDENCE-GARAGE| false|   false|1434|      14|  32|            24|      05|     1161628|     1912157|2015|02/10/2018 03:50:...|41.914635603|-87.681630909|(41.914635603, -8...|\n",
            "|10224744|   HY411605|2015-09-05 13:00:00|   025XX W CERMAK RD|0860|          THEFT|        RETAIL THEFT|  GROCERY FOOD STORE|  true|   false|1034|      10|  25|            31|      06|     1159734|     1889313|2015|09/17/2015 11:37:...|41.851988885|-87.689219118|(41.851988885, -8...|\n",
            "|10224745|   HY411654|2015-09-05 11:30:00|031XX W WASHINGTO...|0320|        ROBBERY|STRONGARM - NO WE...|              STREET| false|    true|1222|      12|  27|            27|      03|     1155536|     1900515|2015|02/10/2018 03:50:...| 41.88281374|-87.704325717|(41.88281374, -87...|\n",
            "|10224746|   HY411662|2015-09-05 14:00:00|  071XX S PULASKI RD|0820|          THEFT|      $500 AND UNDER|PARKING LOT/GARAG...| false|   false| 833|       8|  13|            65|      06|     1150938|     1857056|2015|02/10/2018 03:50:...|41.763647552|-87.722344693|(41.763647552, -8...|\n",
            "|10224749|   HY411626|2015-09-05 11:00:00|052XX N MILWAUKEE...|0460|        BATTERY|              SIMPLE|  SMALL RETAIL STORE| false|   false|1623|      16|  45|            11|     08B|     1137969|     1934340|2015|02/10/2018 03:50:...|41.975968415|-87.768014257|(41.975968415, -8...|\n",
            "|10224750|   HY411632|2015-09-05 03:00:00|    0000X W 103RD ST|2820|  OTHER OFFENSE|    TELEPHONE THREAT|           APARTMENT| false|    true| 512|       5|  34|            49|      26|     1177871|     1836676|2015|02/10/2018 03:50:...|41.707154919|-87.624244993|(41.707154919, -8...|\n",
            "|10224751|   HY411566|2015-09-05 12:50:00|     013XX E 47TH ST|0486|        BATTERY|DOMESTIC BATTERY ...|              STREET| false|    true| 222|       2|   4|            39|     08B|     1185907|     1874105|2015|02/10/2018 03:50:...|41.809678314|-87.593638934|(41.809678314, -8...|\n",
            "|10224752|   HY411601|2015-09-03 13:00:00| 020XX W SCHILLER ST|0810|          THEFT|           OVER $500|              STREET| false|   false|1424|      14|   1|            24|      06|     1162574|     1909428|2015|02/10/2018 03:50:...|41.907127255|-87.678232016|(41.907127255, -8...|\n",
            "|10224753|   HY411489|2015-09-05 11:45:00|  080XX S JUSTINE ST|0497|        BATTERY|AGGRAVATED DOMEST...|           APARTMENT| false|   false| 612|       6|  21|            71|     04B|     1167400|     1851512|2015|02/10/2018 03:50:...|41.748097343|-87.662166183|(41.748097343, -8...|\n",
            "|10224754|   HY411656|2015-09-05 13:30:00|007XX N LEAMINGTO...|1320|CRIMINAL DAMAGE|          TO VEHICLE|              STREET| false|   false|1531|      15|  28|            25|      14|     1141889|     1904448|2015|02/10/2018 03:50:...|41.893869916|-87.754341096|(41.893869916, -8...|\n",
            "|10224756|   HY410094|2015-07-08 00:00:00|103XX S TORRENCE AVE|0620|       BURGLARY|      UNLAWFUL ENTRY|               OTHER| false|   false| 434|       4|  10|            51|      05|     1195508|     1836950|2015|02/10/2018 03:50:...|41.707490122|-87.559650325|(41.707490122, -8...|\n",
            "|10224757|   HY411388|2015-09-05 09:55:00|  088XX S PAULINA ST|0610|       BURGLARY|      FORCIBLE ENTRY|           RESIDENCE|  true|   false|2221|      22|  21|            71|      05|     1166554|     1846067|2015|02/10/2018 03:50:...|41.733173536|-87.665421067|(41.733173536, -8...|\n",
            "|10224758|   HY411568|2015-09-05 12:35:00|    059XX W GRACE ST|0486|        BATTERY|DOMESTIC BATTERY ...|              STREET| false|    true|1633|      16|  38|            15|     08B|     1136014|     1924656|2015|02/10/2018 03:50:...|41.949429769|-87.775435529|(41.949429769, -8...|\n",
            "|10224759|   HY411581|2015-09-04 22:30:00|    100XX S AVENUE L|1320|CRIMINAL DAMAGE|          TO VEHICLE|              STREET| false|   false| 432|       4|  10|            52|      14|     1201814|     1839027|2015|02/10/2018 03:50:...|41.713031786|-87.536487809|(41.713031786, -8...|\n",
            "|10224761|   HY411650|2015-09-02 00:01:00|049XX W WINNEMAC AVE|1310|CRIMINAL DAMAGE|         TO PROPERTY|    RESIDENCE-GARAGE| false|   false|1623|      16|  45|            12|      14|     1142583|     1933126|2015|02/10/2018 03:50:...|41.972552295|-87.751076926|(41.972552295, -8...|\n",
            "+--------+-----------+-------------------+--------------------+----+---------------+--------------------+--------------------+------+--------+----+--------+----+--------------+--------+------------+------------+----+--------------------+------------+-------------+--------------------+\n",
            "only showing top 20 rows\n",
            "\n"
          ]
        }
      ]
    },
    {
      "cell_type": "code",
      "source": [
        "(df3.select('Year').distinct().sort('Year')).show()"
      ],
      "metadata": {
        "colab": {
          "base_uri": "https://localhost:8080/"
        },
        "id": "dTAOJUJnGcxG",
        "outputId": "891e7f09-ff37-4755-cb2e-3ea73b7befdf"
      },
      "execution_count": 18,
      "outputs": [
        {
          "output_type": "stream",
          "name": "stdout",
          "text": [
            "+----+\n",
            "|Year|\n",
            "+----+\n",
            "|2012|\n",
            "|2013|\n",
            "|2014|\n",
            "|2015|\n",
            "|2016|\n",
            "|2017|\n",
            "|2018|\n",
            "|2019|\n",
            "|2020|\n",
            "|2021|\n",
            "|2022|\n",
            "+----+\n",
            "\n"
          ]
        }
      ]
    },
    {
      "cell_type": "markdown",
      "source": [
        "#### 8) Remove all the records with the following crime types:\n",
        "##### 'NON-CRIMINAL (SUBJECT SPECIFIED)'\n",
        "##### 'OTHER OFFENSE'\n",
        "##### 'STALKING'\n",
        "##### 'NON - CRIMINAL'\n",
        "##### 'ARSON'"
      ],
      "metadata": {
        "id": "GaqriJ94GjTG"
      }
    },
    {
      "cell_type": "code",
      "source": [
        "df3.select('Primary Type').distinct().show()"
      ],
      "metadata": {
        "colab": {
          "base_uri": "https://localhost:8080/"
        },
        "id": "SlP512vLG30y",
        "outputId": "1c338f91-e6b1-4430-9c56-8af209392671"
      },
      "execution_count": 19,
      "outputs": [
        {
          "output_type": "stream",
          "name": "stdout",
          "text": [
            "+--------------------+\n",
            "|        Primary Type|\n",
            "+--------------------+\n",
            "|OFFENSE INVOLVING...|\n",
            "|CRIMINAL SEXUAL A...|\n",
            "|            STALKING|\n",
            "|PUBLIC PEACE VIOL...|\n",
            "|           OBSCENITY|\n",
            "|NON-CRIMINAL (SUB...|\n",
            "|               ARSON|\n",
            "|            GAMBLING|\n",
            "|   CRIMINAL TRESPASS|\n",
            "|             ASSAULT|\n",
            "|      NON - CRIMINAL|\n",
            "|LIQUOR LAW VIOLATION|\n",
            "| MOTOR VEHICLE THEFT|\n",
            "|               THEFT|\n",
            "|             BATTERY|\n",
            "|             ROBBERY|\n",
            "|            HOMICIDE|\n",
            "|    PUBLIC INDECENCY|\n",
            "| CRIM SEXUAL ASSAULT|\n",
            "|   HUMAN TRAFFICKING|\n",
            "+--------------------+\n",
            "only showing top 20 rows\n",
            "\n"
          ]
        }
      ]
    },
    {
      "cell_type": "code",
      "source": [
        "list=['NON-CRIMINAL (SUBJECT SPECIFIED)','OTHER OFFENSE','STALKING','NON - CRIMINAL','ARSON']\n",
        "df3 = df3.filter(~df3['Primary Type'].isin(list))\n"
      ],
      "metadata": {
        "id": "usUbiZRiG7l0"
      },
      "execution_count": 20,
      "outputs": []
    },
    {
      "cell_type": "code",
      "source": [
        "df3.select('Primary Type').distinct().collect()"
      ],
      "metadata": {
        "colab": {
          "base_uri": "https://localhost:8080/"
        },
        "id": "Q8kL9M5YG_HI",
        "outputId": "c82f2ec0-fbf7-44d0-d565-7de5c8e2056e"
      },
      "execution_count": 21,
      "outputs": [
        {
          "output_type": "execute_result",
          "data": {
            "text/plain": [
              "[Row(Primary Type='OFFENSE INVOLVING CHILDREN'),\n",
              " Row(Primary Type='CRIMINAL SEXUAL ASSAULT'),\n",
              " Row(Primary Type='PUBLIC PEACE VIOLATION'),\n",
              " Row(Primary Type='OBSCENITY'),\n",
              " Row(Primary Type='GAMBLING'),\n",
              " Row(Primary Type='CRIMINAL TRESPASS'),\n",
              " Row(Primary Type='ASSAULT'),\n",
              " Row(Primary Type='LIQUOR LAW VIOLATION'),\n",
              " Row(Primary Type='MOTOR VEHICLE THEFT'),\n",
              " Row(Primary Type='THEFT'),\n",
              " Row(Primary Type='BATTERY'),\n",
              " Row(Primary Type='ROBBERY'),\n",
              " Row(Primary Type='HOMICIDE'),\n",
              " Row(Primary Type='PUBLIC INDECENCY'),\n",
              " Row(Primary Type='CRIM SEXUAL ASSAULT'),\n",
              " Row(Primary Type='HUMAN TRAFFICKING'),\n",
              " Row(Primary Type='INTIMIDATION'),\n",
              " Row(Primary Type='PROSTITUTION'),\n",
              " Row(Primary Type='DECEPTIVE PRACTICE'),\n",
              " Row(Primary Type='CONCEALED CARRY LICENSE VIOLATION'),\n",
              " Row(Primary Type='SEX OFFENSE'),\n",
              " Row(Primary Type='CRIMINAL DAMAGE'),\n",
              " Row(Primary Type='NARCOTICS'),\n",
              " Row(Primary Type='NON-CRIMINAL'),\n",
              " Row(Primary Type='KIDNAPPING'),\n",
              " Row(Primary Type='BURGLARY'),\n",
              " Row(Primary Type='WEAPONS VIOLATION'),\n",
              " Row(Primary Type='OTHER NARCOTIC VIOLATION'),\n",
              " Row(Primary Type='INTERFERENCE WITH PUBLIC OFFICER')]"
            ]
          },
          "metadata": {},
          "execution_count": 21
        }
      ]
    },
    {
      "cell_type": "markdown",
      "source": [
        "9.Merge similar Crimes "
      ],
      "metadata": {
        "id": "yIFtBXhZGws3"
      }
    },
    {
      "cell_type": "code",
      "source": [
        "# df3 = df3.replace(['NON-CRIMINAL (SUBJECT SPECIFIED)','NON - CRIMINAL','NON-CRIMINAL'],'NON-CRIMINAL','Primary Type')\n",
        "df3 = df3.replace(['CRIM SEXUAL ASSAULT','CRIMINAL SEXUAL ASSAULT'],'SEXUAL ASSAULT','Primary Type')\n",
        "df3 = df3.replace(['SEX OFFENSE','PROSTITUTION'],'SEXUAL OFFENSE','Primary Type')\n",
        "df3 = df3.replace(['BURGLARY','THEFT','ROBBERY'],'THEFT','Primary Type')\n",
        "df3 = df3.replace(['PUBLIC PEACE VIOLATION','PUBLIC INDECENCY'],'PUBLIC OFFENSE','Primary Type')"
      ],
      "metadata": {
        "id": "DlKE-NMWGtCN"
      },
      "execution_count": 22,
      "outputs": []
    },
    {
      "cell_type": "code",
      "source": [
        "df3.select('Primary Type').distinct().collect()"
      ],
      "metadata": {
        "colab": {
          "base_uri": "https://localhost:8080/"
        },
        "id": "AEHAQ_q0HGxZ",
        "outputId": "9ffba830-ee81-4ad6-fade-af46d248c96f"
      },
      "execution_count": 23,
      "outputs": [
        {
          "output_type": "execute_result",
          "data": {
            "text/plain": [
              "[Row(Primary Type='OFFENSE INVOLVING CHILDREN'),\n",
              " Row(Primary Type='OBSCENITY'),\n",
              " Row(Primary Type='SEXUAL OFFENSE'),\n",
              " Row(Primary Type='GAMBLING'),\n",
              " Row(Primary Type='CRIMINAL TRESPASS'),\n",
              " Row(Primary Type='ASSAULT'),\n",
              " Row(Primary Type='LIQUOR LAW VIOLATION'),\n",
              " Row(Primary Type='MOTOR VEHICLE THEFT'),\n",
              " Row(Primary Type='THEFT'),\n",
              " Row(Primary Type='PUBLIC OFFENSE'),\n",
              " Row(Primary Type='BATTERY'),\n",
              " Row(Primary Type='HOMICIDE'),\n",
              " Row(Primary Type='HUMAN TRAFFICKING'),\n",
              " Row(Primary Type='INTIMIDATION'),\n",
              " Row(Primary Type='DECEPTIVE PRACTICE'),\n",
              " Row(Primary Type='CONCEALED CARRY LICENSE VIOLATION'),\n",
              " Row(Primary Type='CRIMINAL DAMAGE'),\n",
              " Row(Primary Type='SEXUAL ASSAULT'),\n",
              " Row(Primary Type='NARCOTICS'),\n",
              " Row(Primary Type='NON-CRIMINAL'),\n",
              " Row(Primary Type='KIDNAPPING'),\n",
              " Row(Primary Type='WEAPONS VIOLATION'),\n",
              " Row(Primary Type='OTHER NARCOTIC VIOLATION'),\n",
              " Row(Primary Type='INTERFERENCE WITH PUBLIC OFFICER')]"
            ]
          },
          "metadata": {},
          "execution_count": 23
        }
      ]
    },
    {
      "cell_type": "markdown",
      "source": [
        "### 10)Analyze the data and present results:\n",
        "##### a)Show year-wise trend of the crime for last ten years."
      ],
      "metadata": {
        "id": "xaMW-JjPHZcD"
      }
    },
    {
      "cell_type": "code",
      "source": [
        "df3_v1 = (((df3.groupby('Year').count())).sort('Year')).toPandas()"
      ],
      "metadata": {
        "id": "sDrXBrxtHa5Z"
      },
      "execution_count": 24,
      "outputs": []
    },
    {
      "cell_type": "code",
      "source": [
        "print(df3_v1)"
      ],
      "metadata": {
        "colab": {
          "base_uri": "https://localhost:8080/"
        },
        "id": "R5gstk2YHg98",
        "outputId": "f7cb98f8-f89e-49d1-820c-adace8887d31"
      },
      "execution_count": 25,
      "outputs": [
        {
          "output_type": "stream",
          "name": "stdout",
          "text": [
            "    Year   count\n",
            "0   2012     160\n",
            "1   2013     292\n",
            "2   2014     776\n",
            "3   2015  152656\n",
            "4   2016  242625\n",
            "5   2017  240733\n",
            "6   2018  239830\n",
            "7   2019  110237\n",
            "8   2020   16071\n",
            "9   2021    2366\n",
            "10  2022     264\n"
          ]
        }
      ]
    },
    {
      "cell_type": "code",
      "source": [
        "df3_v1.plot(x = 'Year',y='count'\n",
        "            ,kind='bar',figsize =(10,5),legend=False,color='red',title='Crimes Trend for the past 10 Years',ylabel='Number of Crimes')\n",
        "plt.show()"
      ],
      "metadata": {
        "colab": {
          "base_uri": "https://localhost:8080/",
          "height": 365
        },
        "id": "iQJWessrHjJH",
        "outputId": "ae53c429-3259-4b4b-aa05-738069945bb4"
      },
      "execution_count": 31,
      "outputs": [
        {
          "output_type": "display_data",
          "data": {
            "text/plain": [
              "<Figure size 720x360 with 1 Axes>"
            ],
            "image/png": "[encoded data removed]"
          },
          "metadata": {
            "needs_background": "light"
          }
        }
      ]
    },
    {
      "cell_type": "markdown",
      "source": [
        "#### b) Find out at which hour of the day crime is highest."
      ],
      "metadata": {
        "id": "ImLK9BDjHmoI"
      }
    },
    {
      "cell_type": "code",
      "source": [
        "df3 = df3.withColumn('hour',hour(col('Date')))"
      ],
      "metadata": {
        "id": "Ufk_wrQMHoDU"
      },
      "execution_count": 27,
      "outputs": []
    },
    {
      "cell_type": "code",
      "source": [
        "df3_v2 = df3.groupBy(df3.hour).count().sort('count',ascending=False).toPandas()\n",
        "df3_v2.head(1)"
      ],
      "metadata": {
        "colab": {
          "base_uri": "https://localhost:8080/",
          "height": 81
        },
        "id": "kFdoZSriHrSX",
        "outputId": "7135e387-7e36-4e06-df39-0bfd361822ef"
      },
      "execution_count": 28,
      "outputs": [
        {
          "output_type": "execute_result",
          "data": {
            "text/plain": [
              "   hour  count\n",
              "0    12  59139"
            ],
            "text/html": [
              "\n",
              "  <div id=\"df-b1aee847-bfbe-4672-bc8d-9a3d1c434c8b\">\n",
              "    <div class=\"colab-df-container\">\n",
              "      <div>\n",
              "<style scoped>\n",
              "    .dataframe tbody tr th:only-of-type {\n",
              "        vertical-align: middle;\n",
              "    }\n",
              "\n",
              "    .dataframe tbody tr th {\n",
              "        vertical-align: top;\n",
              "    }\n",
              "\n",
              "    .dataframe thead th {\n",
              "        text-align: right;\n",
              "    }\n",
              "</style>\n",
              "<table border=\"1\" class=\"dataframe\">\n",
              "  <thead>\n",
              "    <tr style=\"text-align: right;\">\n",
              "      <th></th>\n",
              "      <th>hour</th>\n",
              "      <th>count</th>\n",
              "    </tr>\n",
              "  </thead>\n",
              "  <tbody>\n",
              "    <tr>\n",
              "      <th>0</th>\n",
              "      <td>12</td>\n",
              "      <td>59139</td>\n",
              "    </tr>\n",
              "  </tbody>\n",
              "</table>\n",
              "</div>\n",
              "      <button class=\"colab-df-convert\" onclick=\"convertToInteractive('df-b1aee847-bfbe-4672-bc8d-9a3d1c434c8b')\"\n",
              "              title=\"Convert this dataframe to an interactive table.\"\n",
              "              style=\"display:none;\">\n",
              "        \n",
              "  <svg xmlns=\"http://www.w3.org/2000/svg\" height=\"24px\"viewBox=\"0 0 24 24\"\n",
              "       width=\"24px\">\n",
              "    <path d=\"M0 0h24v24H0V0z\" fill=\"none\"/>\n",
              "    <path d=\"M18.56 5.44l.94 2.06.94-2.06 2.06-.94-2.06-.94-.94-2.06-.94 2.06-2.06.94zm-11 1L8.5 8.5l.94-2.06 2.06-.94-2.06-.94L8.5 2.5l-.94 2.06-2.06.94zm10 10l.94 2.06.94-2.06 2.06-.94-2.06-.94-.94-2.06-.94 2.06-2.06.94z\"/><path d=\"M17.41 7.96l-1.37-1.37c-.4-.4-.92-.59-1.43-.59-.52 0-1.04.2-1.43.59L10.3 9.45l-7.72 7.72c-.78.78-.78 2.05 0 2.83L4 21.41c.39.39.9.59 1.41.59.51 0 1.02-.2 1.41-.59l7.78-7.78 2.81-2.81c.8-.78.8-2.07 0-2.86zM5.41 20L4 18.59l7.72-7.72 1.47 1.35L5.41 20z\"/>\n",
              "  </svg>\n",
              "      </button>\n",
              "      \n",
              "  <style>\n",
              "    .colab-df-container {\n",
              "      display:flex;\n",
              "      flex-wrap:wrap;\n",
              "      gap: 12px;\n",
              "    }\n",
              "\n",
              "    .colab-df-convert {\n",
              "      background-color: #E8F0FE;\n",
              "      border: none;\n",
              "      border-radius: 50%;\n",
              "      cursor: pointer;\n",
              "      display: none;\n",
              "      fill: #1967D2;\n",
              "      height: 32px;\n",
              "      padding: 0 0 0 0;\n",
              "      width: 32px;\n",
              "    }\n",
              "\n",
              "    .colab-df-convert:hover {\n",
              "      background-color: #E2EBFA;\n",
              "      box-shadow: 0px 1px 2px rgba(60, 64, 67, 0.3), 0px 1px 3px 1px rgba(60, 64, 67, 0.15);\n",
              "      fill: #174EA6;\n",
              "    }\n",
              "\n",
              "    [theme=dark] .colab-df-convert {\n",
              "      background-color: #3B4455;\n",
              "      fill: #D2E3FC;\n",
              "    }\n",
              "\n",
              "    [theme=dark] .colab-df-convert:hover {\n",
              "      background-color: #434B5C;\n",
              "      box-shadow: 0px 1px 3px 1px rgba(0, 0, 0, 0.15);\n",
              "      filter: drop-shadow(0px 1px 2px rgba(0, 0, 0, 0.3));\n",
              "      fill: #FFFFFF;\n",
              "    }\n",
              "  </style>\n",
              "\n",
              "      <script>\n",
              "        const buttonEl =\n",
              "          document.querySelector('#df-b1aee847-bfbe-4672-bc8d-9a3d1c434c8b button.colab-df-convert');\n",
              "        buttonEl.style.display =\n",
              "          google.colab.kernel.accessAllowed ? 'block' : 'none';\n",
              "\n",
              "        async function convertToInteractive(key) {\n",
              "          const element = document.querySelector('#df-b1aee847-bfbe-4672-bc8d-9a3d1c434c8b');\n",
              "          const dataTable =\n",
              "            await google.colab.kernel.invokeFunction('convertToInteractive',\n",
              "                                                     [key], {});\n",
              "          if (!dataTable) return;\n",
              "\n",
              "          const docLinkHtml = 'Like what you see? Visit the ' +\n",
              "            '<a target=\"_blank\" href=https://colab.research.google.com/notebooks/data_table.ipynb>data table notebook</a>'\n",
              "            + ' to learn more about interactive tables.';\n",
              "          element.innerHTML = '';\n",
              "          dataTable['output_type'] = 'display_data';\n",
              "          await google.colab.output.renderOutput(dataTable, element);\n",
              "          const docLink = document.createElement('div');\n",
              "          docLink.innerHTML = docLinkHtml;\n",
              "          element.appendChild(docLink);\n",
              "        }\n",
              "      </script>\n",
              "    </div>\n",
              "  </div>\n",
              "  "
            ]
          },
          "metadata": {},
          "execution_count": 28
        }
      ]
    },
    {
      "cell_type": "code",
      "source": [
        "df3_v2 = df3.groupBy(df3.hour).count().sort('hour').toPandas()\n",
        "df3_v2.plot(kind='bar',x='hour',y='count',legend=False)"
      ],
      "metadata": {
        "colab": {
          "base_uri": "https://localhost:8080/",
          "height": 299
        },
        "id": "VYz5lCoBHtc9",
        "outputId": "dbaf1fa4-50e9-4e94-a7db-e746db5f669e"
      },
      "execution_count": 29,
      "outputs": [
        {
          "output_type": "execute_result",
          "data": {
            "text/plain": [
              "<matplotlib.axes._subplots.AxesSubplot at 0x7fab57d61dd0>"
            ]
          },
          "metadata": {},
          "execution_count": 29
        },
        {
          "output_type": "display_data",
          "data": {
            "text/plain": [
              "<Figure size 432x288 with 1 Axes>"
            ],
            "image/png": "[encoded data removed]"
          },
          "metadata": {
            "needs_background": "light"
          }
        }
      ]
    },
    {
      "cell_type": "markdown",
      "source": [
        "#### c) Find top ten crimes and present them as a bar chart."
      ],
      "metadata": {
        "id": "vPGNAl2EHv85"
      }
    },
    {
      "cell_type": "code",
      "source": [
        "df3_v3 = (((df3.groupby('Primary Type').count())).sort('count',ascending=False)).toPandas()\n",
        "df3_v3"
      ],
      "metadata": {
        "colab": {
          "base_uri": "https://localhost:8080/",
          "height": 802
        },
        "id": "cCRTDeSMHxQV",
        "outputId": "ac987018-990a-455d-f93a-99f3ed98be26"
      },
      "execution_count": 30,
      "outputs": [
        {
          "output_type": "execute_result",
          "data": {
            "text/plain": [
              "                         Primary Type   count\n",
              "0                               THEFT  347430\n",
              "1                             BATTERY  203915\n",
              "2                     CRIMINAL DAMAGE  120761\n",
              "3                             ASSAULT   78580\n",
              "4                  DECEPTIVE PRACTICE   69954\n",
              "5                           NARCOTICS   57246\n",
              "6                 MOTOR VEHICLE THEFT   43860\n",
              "7                   CRIMINAL TRESPASS   27405\n",
              "8                   WEAPONS VIOLATION   19412\n",
              "9          OFFENSE INVOLVING CHILDREN    8861\n",
              "10                     SEXUAL OFFENSE    7293\n",
              "11                     PUBLIC OFFENSE    6825\n",
              "12                     SEXUAL ASSAULT    5614\n",
              "13   INTERFERENCE WITH PUBLIC OFFICER    4819\n",
              "14               LIQUOR LAW VIOLATION     968\n",
              "15                           GAMBLING     820\n",
              "16                         KIDNAPPING     768\n",
              "17                       INTIMIDATION     610\n",
              "18  CONCEALED CARRY LICENSE VIOLATION     379\n",
              "19                          OBSCENITY     262\n",
              "20                       NON-CRIMINAL     130\n",
              "21                  HUMAN TRAFFICKING      44\n",
              "22                           HOMICIDE      34\n",
              "23           OTHER NARCOTIC VIOLATION      20"
            ],
            "text/html": [
              "\n",
              "  <div id=\"df-a4ff486c-7dbb-454e-b797-2d9eec09adb6\">\n",
              "    <div class=\"colab-df-container\">\n",
              "      <div>\n",
              "<style scoped>\n",
              "    .dataframe tbody tr th:only-of-type {\n",
              "        vertical-align: middle;\n",
              "    }\n",
              "\n",
              "    .dataframe tbody tr th {\n",
              "        vertical-align: top;\n",
              "    }\n",
              "\n",
              "    .dataframe thead th {\n",
              "        text-align: right;\n",
              "    }\n",
              "</style>\n",
              "<table border=\"1\" class=\"dataframe\">\n",
              "  <thead>\n",
              "    <tr style=\"text-align: right;\">\n",
              "      <th></th>\n",
              "      <th>Primary Type</th>\n",
              "      <th>count</th>\n",
              "    </tr>\n",
              "  </thead>\n",
              "  <tbody>\n",
              "    <tr>\n",
              "      <th>0</th>\n",
              "      <td>THEFT</td>\n",
              "      <td>347430</td>\n",
              "    </tr>\n",
              "    <tr>\n",
              "      <th>1</th>\n",
              "      <td>BATTERY</td>\n",
              "      <td>203915</td>\n",
              "    </tr>\n",
              "    <tr>\n",
              "      <th>2</th>\n",
              "      <td>CRIMINAL DAMAGE</td>\n",
              "      <td>120761</td>\n",
              "    </tr>\n",
              "    <tr>\n",
              "      <th>3</th>\n",
              "      <td>ASSAULT</td>\n",
              "      <td>78580</td>\n",
              "    </tr>\n",
              "    <tr>\n",
              "      <th>4</th>\n",
              "      <td>DECEPTIVE PRACTICE</td>\n",
              "      <td>69954</td>\n",
              "    </tr>\n",
              "    <tr>\n",
              "      <th>5</th>\n",
              "      <td>NARCOTICS</td>\n",
              "      <td>57246</td>\n",
              "    </tr>\n",
              "    <tr>\n",
              "      <th>6</th>\n",
              "      <td>MOTOR VEHICLE THEFT</td>\n",
              "      <td>43860</td>\n",
              "    </tr>\n",
              "    <tr>\n",
              "      <th>7</th>\n",
              "      <td>CRIMINAL TRESPASS</td>\n",
              "      <td>27405</td>\n",
              "    </tr>\n",
              "    <tr>\n",
              "      <th>8</th>\n",
              "      <td>WEAPONS VIOLATION</td>\n",
              "      <td>19412</td>\n",
              "    </tr>\n",
              "    <tr>\n",
              "      <th>9</th>\n",
              "      <td>OFFENSE INVOLVING CHILDREN</td>\n",
              "      <td>8861</td>\n",
              "    </tr>\n",
              "    <tr>\n",
              "      <th>10</th>\n",
              "      <td>SEXUAL OFFENSE</td>\n",
              "      <td>7293</td>\n",
              "    </tr>\n",
              "    <tr>\n",
              "      <th>11</th>\n",
              "      <td>PUBLIC OFFENSE</td>\n",
              "      <td>6825</td>\n",
              "    </tr>\n",
              "    <tr>\n",
              "      <th>12</th>\n",
              "      <td>SEXUAL ASSAULT</td>\n",
              "      <td>5614</td>\n",
              "    </tr>\n",
              "    <tr>\n",
              "      <th>13</th>\n",
              "      <td>INTERFERENCE WITH PUBLIC OFFICER</td>\n",
              "      <td>4819</td>\n",
              "    </tr>\n",
              "    <tr>\n",
              "      <th>14</th>\n",
              "      <td>LIQUOR LAW VIOLATION</td>\n",
              "      <td>968</td>\n",
              "    </tr>\n",
              "    <tr>\n",
              "      <th>15</th>\n",
              "      <td>GAMBLING</td>\n",
              "      <td>820</td>\n",
              "    </tr>\n",
              "    <tr>\n",
              "      <th>16</th>\n",
              "      <td>KIDNAPPING</td>\n",
              "      <td>768</td>\n",
              "    </tr>\n",
              "    <tr>\n",
              "      <th>17</th>\n",
              "      <td>INTIMIDATION</td>\n",
              "      <td>610</td>\n",
              "    </tr>\n",
              "    <tr>\n",
              "      <th>18</th>\n",
              "      <td>CONCEALED CARRY LICENSE VIOLATION</td>\n",
              "      <td>379</td>\n",
              "    </tr>\n",
              "    <tr>\n",
              "      <th>19</th>\n",
              "      <td>OBSCENITY</td>\n",
              "      <td>262</td>\n",
              "    </tr>\n",
              "    <tr>\n",
              "      <th>20</th>\n",
              "      <td>NON-CRIMINAL</td>\n",
              "      <td>130</td>\n",
              "    </tr>\n",
              "    <tr>\n",
              "      <th>21</th>\n",
              "      <td>HUMAN TRAFFICKING</td>\n",
              "      <td>44</td>\n",
              "    </tr>\n",
              "    <tr>\n",
              "      <th>22</th>\n",
              "      <td>HOMICIDE</td>\n",
              "      <td>34</td>\n",
              "    </tr>\n",
              "    <tr>\n",
              "      <th>23</th>\n",
              "      <td>OTHER NARCOTIC VIOLATION</td>\n",
              "      <td>20</td>\n",
              "    </tr>\n",
              "  </tbody>\n",
              "</table>\n",
              "</div>\n",
              "      <button class=\"colab-df-convert\" onclick=\"convertToInteractive('df-a4ff486c-7dbb-454e-b797-2d9eec09adb6')\"\n",
              "              title=\"Convert this dataframe to an interactive table.\"\n",
              "              style=\"display:none;\">\n",
              "        \n",
              "  <svg xmlns=\"http://www.w3.org/2000/svg\" height=\"24px\"viewBox=\"0 0 24 24\"\n",
              "       width=\"24px\">\n",
              "    <path d=\"M0 0h24v24H0V0z\" fill=\"none\"/>\n",
              "    <path d=\"M18.56 5.44l.94 2.06.94-2.06 2.06-.94-2.06-.94-.94-2.06-.94 2.06-2.06.94zm-11 1L8.5 8.5l.94-2.06 2.06-.94-2.06-.94L8.5 2.5l-.94 2.06-2.06.94zm10 10l.94 2.06.94-2.06 2.06-.94-2.06-.94-.94-2.06-.94 2.06-2.06.94z\"/><path d=\"M17.41 7.96l-1.37-1.37c-.4-.4-.92-.59-1.43-.59-.52 0-1.04.2-1.43.59L10.3 9.45l-7.72 7.72c-.78.78-.78 2.05 0 2.83L4 21.41c.39.39.9.59 1.41.59.51 0 1.02-.2 1.41-.59l7.78-7.78 2.81-2.81c.8-.78.8-2.07 0-2.86zM5.41 20L4 18.59l7.72-7.72 1.47 1.35L5.41 20z\"/>\n",
              "  </svg>\n",
              "      </button>\n",
              "      \n",
              "  <style>\n",
              "    .colab-df-container {\n",
              "      display:flex;\n",
              "      flex-wrap:wrap;\n",
              "      gap: 12px;\n",
              "    }\n",
              "\n",
              "    .colab-df-convert {\n",
              "      background-color: #E8F0FE;\n",
              "      border: none;\n",
              "      border-radius: 50%;\n",
              "      cursor: pointer;\n",
              "      display: none;\n",
              "      fill: #1967D2;\n",
              "      height: 32px;\n",
              "      padding: 0 0 0 0;\n",
              "      width: 32px;\n",
              "    }\n",
              "\n",
              "    .colab-df-convert:hover {\n",
              "      background-color: #E2EBFA;\n",
              "      box-shadow: 0px 1px 2px rgba(60, 64, 67, 0.3), 0px 1px 3px 1px rgba(60, 64, 67, 0.15);\n",
              "      fill: #174EA6;\n",
              "    }\n",
              "\n",
              "    [theme=dark] .colab-df-convert {\n",
              "      background-color: #3B4455;\n",
              "      fill: #D2E3FC;\n",
              "    }\n",
              "\n",
              "    [theme=dark] .colab-df-convert:hover {\n",
              "      background-color: #434B5C;\n",
              "      box-shadow: 0px 1px 3px 1px rgba(0, 0, 0, 0.15);\n",
              "      filter: drop-shadow(0px 1px 2px rgba(0, 0, 0, 0.3));\n",
              "      fill: #FFFFFF;\n",
              "    }\n",
              "  </style>\n",
              "\n",
              "      <script>\n",
              "        const buttonEl =\n",
              "          document.querySelector('#df-a4ff486c-7dbb-454e-b797-2d9eec09adb6 button.colab-df-convert');\n",
              "        buttonEl.style.display =\n",
              "          google.colab.kernel.accessAllowed ? 'block' : 'none';\n",
              "\n",
              "        async function convertToInteractive(key) {\n",
              "          const element = document.querySelector('#df-a4ff486c-7dbb-454e-b797-2d9eec09adb6');\n",
              "          const dataTable =\n",
              "            await google.colab.kernel.invokeFunction('convertToInteractive',\n",
              "                                                     [key], {});\n",
              "          if (!dataTable) return;\n",
              "\n",
              "          const docLinkHtml = 'Like what you see? Visit the ' +\n",
              "            '<a target=\"_blank\" href=https://colab.research.google.com/notebooks/data_table.ipynb>data table notebook</a>'\n",
              "            + ' to learn more about interactive tables.';\n",
              "          element.innerHTML = '';\n",
              "          dataTable['output_type'] = 'display_data';\n",
              "          await google.colab.output.renderOutput(dataTable, element);\n",
              "          const docLink = document.createElement('div');\n",
              "          docLink.innerHTML = docLinkHtml;\n",
              "          element.appendChild(docLink);\n",
              "        }\n",
              "      </script>\n",
              "    </div>\n",
              "  </div>\n",
              "  "
            ]
          },
          "metadata": {},
          "execution_count": 30
        }
      ]
    },
    {
      "cell_type": "code",
      "source": [
        "df3_v3.head(10).plot(x ='Primary Type',y = 'count'\n",
        "            ,kind='bar',figsize=(10,5),color='red',legend=False)"
      ],
      "metadata": {
        "colab": {
          "base_uri": "https://localhost:8080/",
          "height": 498
        },
        "id": "z80OrOfPH18m",
        "outputId": "7c6490f5-bba3-470b-915c-ae812f520407"
      },
      "execution_count": 33,
      "outputs": [
        {
          "output_type": "execute_result",
          "data": {
            "text/plain": [
              "<matplotlib.axes._subplots.AxesSubplot at 0x7fab57b72410>"
            ]
          },
          "metadata": {},
          "execution_count": 33
        },
        {
          "output_type": "display_data",
          "data": {
            "text/plain": [
              "<Figure size 720x360 with 1 Axes>"
            ],
            "image/png": "[encoded data removed]"
          },
          "metadata": {
            "needs_background": "light"
          }
        }
      ]
    }
  ]
}